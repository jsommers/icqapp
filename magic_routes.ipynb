{
 "cells": [
  {
   "attachments": {},
   "cell_type": "markdown",
   "metadata": {},
   "source": [
    "# Example magic route invocation\n",
    "\n",
    "[Test multichoice question?](http://localhost:3000/x?c=COSC415F23&q=Multichoice&n=3&o=1%3A+one%0A2%3A+two%0A3%3A+three%0A)\n",
    "\n",
    "[Test numeric question?](http://localhost:3000/x?c=COSC415F23&q=What+is+1%2B1%3F&t=n&a=2)\n",
    "\n",
    "[Test free response question?](http://localhost:3000/x?c=COSC415F23&q=Type+something&t=f&q=Ok)\n"
   ]
  },
  {
   "cell_type": "code",
   "execution_count": null,
   "metadata": {},
   "outputs": [],
   "source": []
  }
 ],
 "metadata": {
  "kernelspec": {
   "display_name": "Python 3",
   "language": "python",
   "name": "python3"
  },
  "language_info": {
   "codemirror_mode": {
    "name": "ipython",
    "version": 3
   },
   "file_extension": ".py",
   "mimetype": "text/x-python",
   "name": "python",
   "nbconvert_exporter": "python",
   "pygments_lexer": "ipython3",
   "version": "3.7.5"
  }
 },
 "nbformat": 4,
 "nbformat_minor": 4
}
