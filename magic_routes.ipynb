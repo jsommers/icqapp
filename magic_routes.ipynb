{
 "cells": [
  {
   "cell_type": "markdown",
   "metadata": {},
   "source": [
    "# Example magic route invocation\n",
    "\n",
    "[Test multichoice question?](http://localhost:3000/x?q=Test%20multichoice?&c=COSC101S20&n=4&a=C)\n",
    "\n",
    "[Test numeric question?](http://localhost:3000/x?q=Test%20numeric?&c=COSC101S20&n=4&t=n&a=13)\n",
    "\n",
    "[Test free response question?](http://localhost:3000/x?q=Test%20free%20response?&c=COSC101S20&n=4&t=f&a=correct%20answer)\n"
   ]
  },
  {
   "cell_type": "code",
   "execution_count": null,
   "metadata": {},
   "outputs": [],
   "source": []
  }
 ],
 "metadata": {
  "kernelspec": {
   "display_name": "Python 3",
   "language": "python",
   "name": "python3"
  },
  "language_info": {
   "codemirror_mode": {
    "name": "ipython",
    "version": 3
   },
   "file_extension": ".py",
   "mimetype": "text/x-python",
   "name": "python",
   "nbconvert_exporter": "python",
   "pygments_lexer": "ipython3",
   "version": "3.7.5"
  }
 },
 "nbformat": 4,
 "nbformat_minor": 4
}
